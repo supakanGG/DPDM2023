{
  "nbformat": 4,
  "nbformat_minor": 0,
  "metadata": {
    "colab": {
      "provenance": [],
      "authorship_tag": "ABX9TyM+nswwCGct5METvNYcXnQg",
      "include_colab_link": true
    },
    "kernelspec": {
      "name": "python3",
      "display_name": "Python 3"
    },
    "language_info": {
      "name": "python"
    }
  },
  "cells": [
    {
      "cell_type": "markdown",
      "metadata": {
        "id": "view-in-github",
        "colab_type": "text"
      },
      "source": [
        "<a href=\"https://colab.research.google.com/github/supakanGG/DPDM2023/blob/main/Python101.ipynb\" target=\"_parent\"><img src=\"https://colab.research.google.com/assets/colab-badge.svg\" alt=\"Open In Colab\"/></a>"
      ]
    },
    {
      "cell_type": "markdown",
      "source": [
        "#String manipulation and Print statement\n",
        "\n",
        "python example"
      ],
      "metadata": {
        "id": "NPVkxGZf42f0"
      }
    },
    {
      "cell_type": "code",
      "source": [
        "for i in ['a','b','c']:\n",
        "    print(i,end=' ')\n",
        "    print('/')\n",
        "    for j in range(10) :\n",
        "        ccc=10"
      ],
      "metadata": {
        "colab": {
          "base_uri": "https://localhost:8080/"
        },
        "id": "cyFJeBi75Cqp",
        "outputId": "8e10ddb9-238c-4741-cd19-e89ee122c832"
      },
      "execution_count": null,
      "outputs": [
        {
          "output_type": "stream",
          "name": "stdout",
          "text": [
            "a /\n",
            "b /\n",
            "c /\n"
          ]
        }
      ]
    },
    {
      "cell_type": "markdown",
      "source": [
        "String (Text)"
      ],
      "metadata": {
        "id": "ZZwHAfqO7T9x"
      }
    },
    {
      "cell_type": "code",
      "source": [
        "text1 = \"stat\"\n",
        "text2 = 'KKU'\n",
        "print(text1)"
      ],
      "metadata": {
        "colab": {
          "base_uri": "https://localhost:8080/"
        },
        "id": "6aa9h9897XM_",
        "outputId": "43ea9888-3999-4050-efb3-b31ddfcdc5a2"
      },
      "execution_count": null,
      "outputs": [
        {
          "output_type": "stream",
          "name": "stdout",
          "text": [
            "stat\n"
          ]
        }
      ]
    },
    {
      "cell_type": "code",
      "source": [
        "print(text2)"
      ],
      "metadata": {
        "colab": {
          "base_uri": "https://localhost:8080/"
        },
        "id": "bAVjm22K8TTr",
        "outputId": "615f4b1d-5de2-495b-f481-76cff929d986"
      },
      "execution_count": null,
      "outputs": [
        {
          "output_type": "stream",
          "name": "stdout",
          "text": [
            "KKU\n"
          ]
        }
      ]
    },
    {
      "cell_type": "code",
      "source": [
        "print(text1 + text2)"
      ],
      "metadata": {
        "colab": {
          "base_uri": "https://localhost:8080/"
        },
        "id": "Dyce5B4g8m2N",
        "outputId": "f7ae28ab-3d3d-425a-c60e-067a3e87bb1a"
      },
      "execution_count": null,
      "outputs": [
        {
          "output_type": "stream",
          "name": "stdout",
          "text": [
            "statKKU\n"
          ]
        }
      ]
    },
    {
      "cell_type": "code",
      "source": [
        "print(text1 + 5)  #บวกกันไม่ได้เพราะคนละชนิดของข้อมูล"
      ],
      "metadata": {
        "colab": {
          "base_uri": "https://localhost:8080/",
          "height": 170
        },
        "id": "y5cZwPbp8qcX",
        "outputId": "9498135b-3b22-4dfe-9b09-bb0cca48a4be"
      },
      "execution_count": null,
      "outputs": [
        {
          "output_type": "error",
          "ename": "TypeError",
          "evalue": "ignored",
          "traceback": [
            "\u001b[0;31m---------------------------------------------------------------------------\u001b[0m",
            "\u001b[0;31mTypeError\u001b[0m                                 Traceback (most recent call last)",
            "\u001b[0;32m<ipython-input-6-bc6446dfb353>\u001b[0m in \u001b[0;36m<cell line: 1>\u001b[0;34m()\u001b[0m\n\u001b[0;32m----> 1\u001b[0;31m \u001b[0mprint\u001b[0m\u001b[0;34m(\u001b[0m\u001b[0mtext1\u001b[0m \u001b[0;34m+\u001b[0m \u001b[0;36m5\u001b[0m\u001b[0;34m)\u001b[0m\u001b[0;34m\u001b[0m\u001b[0;34m\u001b[0m\u001b[0m\n\u001b[0m",
            "\u001b[0;31mTypeError\u001b[0m: can only concatenate str (not \"int\") to str"
          ]
        }
      ]
    },
    {
      "cell_type": "code",
      "source": [
        "print(5+ text1)"
      ],
      "metadata": {
        "colab": {
          "base_uri": "https://localhost:8080/",
          "height": 170
        },
        "id": "SIoYYcYw82cj",
        "outputId": "c6641707-e788-4412-c391-6750a2dd6d75"
      },
      "execution_count": null,
      "outputs": [
        {
          "output_type": "error",
          "ename": "TypeError",
          "evalue": "ignored",
          "traceback": [
            "\u001b[0;31m---------------------------------------------------------------------------\u001b[0m",
            "\u001b[0;31mTypeError\u001b[0m                                 Traceback (most recent call last)",
            "\u001b[0;32m<ipython-input-7-4a7c079f4526>\u001b[0m in \u001b[0;36m<cell line: 1>\u001b[0;34m()\u001b[0m\n\u001b[0;32m----> 1\u001b[0;31m \u001b[0mprint\u001b[0m\u001b[0;34m(\u001b[0m\u001b[0;36m5\u001b[0m\u001b[0;34m+\u001b[0m \u001b[0mtext1\u001b[0m\u001b[0;34m)\u001b[0m\u001b[0;34m\u001b[0m\u001b[0;34m\u001b[0m\u001b[0m\n\u001b[0m",
            "\u001b[0;31mTypeError\u001b[0m: unsupported operand type(s) for +: 'int' and 'str'"
          ]
        }
      ]
    },
    {
      "cell_type": "markdown",
      "source": [
        "Variable"
      ],
      "metadata": {
        "id": "EdbWnWmS91gd"
      }
    },
    {
      "cell_type": "code",
      "source": [
        "a = 5  #int\n",
        "print(a)"
      ],
      "metadata": {
        "colab": {
          "base_uri": "https://localhost:8080/"
        },
        "id": "JGRNCYje95x8",
        "outputId": "f2563139-e199-4317-b98a-24e27ba71ce6"
      },
      "execution_count": null,
      "outputs": [
        {
          "output_type": "stream",
          "name": "stdout",
          "text": [
            "5\n"
          ]
        }
      ]
    },
    {
      "cell_type": "code",
      "source": [
        "b = 5.7  #float\n",
        "print(b)"
      ],
      "metadata": {
        "colab": {
          "base_uri": "https://localhost:8080/"
        },
        "id": "3RIvWb4w-CcZ",
        "outputId": "18e4a992-07a9-46a4-9259-ba00d28bad9d"
      },
      "execution_count": null,
      "outputs": [
        {
          "output_type": "stream",
          "name": "stdout",
          "text": [
            "5.7\n"
          ]
        }
      ]
    },
    {
      "cell_type": "code",
      "source": [
        "c = a-b   #mix int and float together\n",
        "print(c)"
      ],
      "metadata": {
        "colab": {
          "base_uri": "https://localhost:8080/"
        },
        "id": "cZhhgvMG-JHr",
        "outputId": "0437f1e4-5b74-4c16-f892-37ed703fcda5"
      },
      "execution_count": null,
      "outputs": [
        {
          "output_type": "stream",
          "name": "stdout",
          "text": [
            "-0.7000000000000002\n"
          ]
        }
      ]
    },
    {
      "cell_type": "markdown",
      "source": [
        "## variable naming rules\n",
        "    1. try to use meaningful word (ตั้งชื่อให้สื่อความหมาย)\n",
        "    2. Do it in English\n",
        "    3. You can use number uin variable name but the name cannot start with number (ใช้ตัวเลขผสมกับตัวหนังสือได้แต่ห้ามขึ้นต้นด้วยตัวเลข)\n",
        "    4. There should be no space in the name\n",
        "    5. name is case-sensitive (Abc is not equal to ABC)"
      ],
      "metadata": {
        "id": "Ul0jisAY-jPf"
      }
    },
    {
      "cell_type": "markdown",
      "source": [
        "Advanced printing (mix everyone in one line)"
      ],
      "metadata": {
        "id": "-63LyL3v_5ZP"
      }
    },
    {
      "cell_type": "code",
      "source": [
        "print(f'six plus five = {6+5}')   #f หน้า text"
      ],
      "metadata": {
        "colab": {
          "base_uri": "https://localhost:8080/"
        },
        "id": "e6787pV--0qR",
        "outputId": "e2e9259b-d00b-46ef-9911-adc34883dd87"
      },
      "execution_count": null,
      "outputs": [
        {
          "output_type": "stream",
          "name": "stdout",
          "text": [
            "six plus five = 11\n"
          ]
        }
      ]
    },
    {
      "cell_type": "code",
      "source": [
        "print(f'six plus five = {6+5:.2f}%') #เติมจำนวนทศนิยมที่ต้องการไว้ข้างหลังตามด้วยf"
      ],
      "metadata": {
        "colab": {
          "base_uri": "https://localhost:8080/"
        },
        "id": "NTmUi9SQASXr",
        "outputId": "2c7faabe-b068-46b7-c73b-6d090988c0af"
      },
      "execution_count": null,
      "outputs": [
        {
          "output_type": "stream",
          "name": "stdout",
          "text": [
            "six plus five = 11.00%\n"
          ]
        }
      ]
    },
    {
      "cell_type": "code",
      "source": [
        "print(f'six plus five = {6+5:.3f}')"
      ],
      "metadata": {
        "colab": {
          "base_uri": "https://localhost:8080/"
        },
        "id": "o3SQtT-3BNls",
        "outputId": "0b1711e5-2946-4871-ba63-c90054f12218"
      },
      "execution_count": null,
      "outputs": [
        {
          "output_type": "stream",
          "name": "stdout",
          "text": [
            "six plus five = 11.000\n"
          ]
        }
      ]
    },
    {
      "cell_type": "code",
      "source": [
        "print(f'six plus five = {6+5:03d}')  #เป็นการเติมจำนวนหลักของผล d=digit"
      ],
      "metadata": {
        "colab": {
          "base_uri": "https://localhost:8080/"
        },
        "id": "XH5xDeBLBllG",
        "outputId": "6d172a9c-76d8-40d6-e447-57c095bca04c"
      },
      "execution_count": null,
      "outputs": [
        {
          "output_type": "stream",
          "name": "stdout",
          "text": [
            "six plus five = 011\n"
          ]
        }
      ]
    },
    {
      "cell_type": "code",
      "source": [
        "print(f'six plus five = {6+5:04d}')"
      ],
      "metadata": {
        "colab": {
          "base_uri": "https://localhost:8080/"
        },
        "id": "g2vCKTwyCEbA",
        "outputId": "d84f5fcc-878e-4886-bd4a-a00a02ff55f1"
      },
      "execution_count": null,
      "outputs": [
        {
          "output_type": "stream",
          "name": "stdout",
          "text": [
            "six plus five = 0011\n"
          ]
        }
      ]
    },
    {
      "cell_type": "code",
      "source": [
        "st1 = f'six plus five = {6+5:04d}'"
      ],
      "metadata": {
        "id": "8s0dNewtCHao"
      },
      "execution_count": null,
      "outputs": []
    },
    {
      "cell_type": "code",
      "source": [
        "st1"
      ],
      "metadata": {
        "colab": {
          "base_uri": "https://localhost:8080/",
          "height": 35
        },
        "id": "k6kEVfDICRxz",
        "outputId": "b6a40912-a6ff-412f-b6d1-f43511a592dd"
      },
      "execution_count": null,
      "outputs": [
        {
          "output_type": "execute_result",
          "data": {
            "text/plain": [
              "'six plus five = 0011'"
            ],
            "application/vnd.google.colaboratory.intrinsic+json": {
              "type": "string"
            }
          },
          "metadata": {},
          "execution_count": 22
        }
      ]
    },
    {
      "cell_type": "code",
      "source": [],
      "metadata": {
        "id": "oppii0nICTwa"
      },
      "execution_count": null,
      "outputs": []
    },
    {
      "cell_type": "code",
      "source": [
        "print('stat')"
      ],
      "metadata": {
        "colab": {
          "base_uri": "https://localhost:8080/"
        },
        "id": "u8GZ1VwT9QJ2",
        "outputId": "13d27f9e-0e19-41c6-bfc7-7131308ec3cf"
      },
      "execution_count": 1,
      "outputs": [
        {
          "output_type": "stream",
          "name": "stdout",
          "text": [
            "stat\n"
          ]
        }
      ]
    },
    {
      "cell_type": "markdown",
      "source": [
        "separator"
      ],
      "metadata": {
        "id": "yPtOp99p-fVW"
      }
    },
    {
      "cell_type": "code",
      "source": [
        "print('stat','KKU')"
      ],
      "metadata": {
        "colab": {
          "base_uri": "https://localhost:8080/"
        },
        "id": "_bozxO6d9g-V",
        "outputId": "6b89bc07-0b58-4918-f96f-92f4bca64801"
      },
      "execution_count": 2,
      "outputs": [
        {
          "output_type": "stream",
          "name": "stdout",
          "text": [
            "stat KKU\n"
          ]
        }
      ]
    },
    {
      "cell_type": "code",
      "source": [
        "print('stat','KKU',sep='/') #2objectถูกแยกด้วย/"
      ],
      "metadata": {
        "colab": {
          "base_uri": "https://localhost:8080/"
        },
        "id": "fsG6Wsnh96dF",
        "outputId": "51ad9d12-0c35-40b7-ba61-f12141bf6a7e"
      },
      "execution_count": 3,
      "outputs": [
        {
          "output_type": "stream",
          "name": "stdout",
          "text": [
            "stat/KKU\n"
          ]
        }
      ]
    },
    {
      "cell_type": "code",
      "source": [
        "print('stat')"
      ],
      "metadata": {
        "id": "jJH4BBYA-Z_h"
      },
      "execution_count": null,
      "outputs": []
    },
    {
      "cell_type": "markdown",
      "source": [
        "end"
      ],
      "metadata": {
        "id": "JriXO2nd-jmV"
      }
    },
    {
      "cell_type": "code",
      "source": [
        "print('stat')\n",
        "print('KKU')"
      ],
      "metadata": {
        "colab": {
          "base_uri": "https://localhost:8080/"
        },
        "id": "tB3jHqWk-knc",
        "outputId": "392aa7eb-7b4f-4476-99b4-5695b13ee153"
      },
      "execution_count": 4,
      "outputs": [
        {
          "output_type": "stream",
          "name": "stdout",
          "text": [
            "stat\n",
            "KKU\n"
          ]
        }
      ]
    },
    {
      "cell_type": "code",
      "source": [
        "print('stat',end='+-+')\n",
        "print('KKU')"
      ],
      "metadata": {
        "colab": {
          "base_uri": "https://localhost:8080/"
        },
        "id": "uu0PCzIT-57B",
        "outputId": "0eb678a6-dd81-449a-e79b-839739c7763d"
      },
      "execution_count": 5,
      "outputs": [
        {
          "output_type": "stream",
          "name": "stdout",
          "text": [
            "stat+-+KKU\n"
          ]
        }
      ]
    },
    {
      "cell_type": "markdown",
      "source": [
        "## Variable types"
      ],
      "metadata": {
        "id": "zVpMturi_Xn9"
      }
    },
    {
      "cell_type": "markdown",
      "source": [
        "Character (ตัวอักษร)"
      ],
      "metadata": {
        "id": "WYYApGp9_jGx"
      }
    },
    {
      "cell_type": "markdown",
      "source": [
        "String + String mean concatenatoin"
      ],
      "metadata": {
        "id": "zaKYO3gwAYFa"
      }
    },
    {
      "cell_type": "code",
      "source": [
        "a='C'\n",
        "b='haracter'\n",
        "print(f'a={a} b={b}, then {a}+{b} = {a+b}')  # string + string คือมาต่อกันได้"
      ],
      "metadata": {
        "colab": {
          "base_uri": "https://localhost:8080/"
        },
        "id": "Oe_jgpzf_eSD",
        "outputId": "8c63d899-610b-4008-95e3-37e696fdfb1e"
      },
      "execution_count": 7,
      "outputs": [
        {
          "output_type": "stream",
          "name": "stdout",
          "text": [
            "a=C b=haracter, then C+haracter = Character\n"
          ]
        }
      ]
    },
    {
      "cell_type": "markdown",
      "source": [
        "# ```integer * char``` mean multiple copies of the char"
      ],
      "metadata": {
        "id": "vCRiVSumAQI-"
      }
    },
    {
      "cell_type": "code",
      "source": [
        "print(5*'T')"
      ],
      "metadata": {
        "colab": {
          "base_uri": "https://localhost:8080/"
        },
        "id": "6jd2X47hAOBc",
        "outputId": "4b72b2fd-f2df-4f54-e974-a376c451e23a"
      },
      "execution_count": 8,
      "outputs": [
        {
          "output_type": "stream",
          "name": "stdout",
          "text": [
            "TTTTT\n"
          ]
        }
      ]
    },
    {
      "cell_type": "markdown",
      "source": [
        "## Quiz1\n",
        "print Ha for 100 times with one print funtion"
      ],
      "metadata": {
        "id": "KqrDNIpuBUtD"
      }
    },
    {
      "cell_type": "code",
      "source": [
        "print(100*'Ha')"
      ],
      "metadata": {
        "colab": {
          "base_uri": "https://localhost:8080/"
        },
        "id": "VcZ37l8pBTS-",
        "outputId": "84cc53b1-78f2-473d-a452-35ae0197db64"
      },
      "execution_count": 9,
      "outputs": [
        {
          "output_type": "stream",
          "name": "stdout",
          "text": [
            "HaHaHaHaHaHaHaHaHaHaHaHaHaHaHaHaHaHaHaHaHaHaHaHaHaHaHaHaHaHaHaHaHaHaHaHaHaHaHaHaHaHaHaHaHaHaHaHaHaHaHaHaHaHaHaHaHaHaHaHaHaHaHaHaHaHaHaHaHaHaHaHaHaHaHaHaHaHaHaHaHaHaHaHaHaHaHaHaHaHaHaHaHaHaHaHaHaHaHaHa\n"
          ]
        }
      ]
    },
    {
      "cell_type": "markdown",
      "source": [
        "Integer (จำนวนเต็ม)"
      ],
      "metadata": {
        "id": "BGhGKC8NGFbe"
      }
    },
    {
      "cell_type": "code",
      "source": [
        "int_a = 7\n",
        "int_b = 2\n",
        "print(type(int_a),type(int_b))"
      ],
      "metadata": {
        "id": "FGARi1J_GKB2",
        "outputId": "5c1b3a06-7ec2-4f22-e7f0-a03218a02eec",
        "colab": {
          "base_uri": "https://localhost:8080/"
        }
      },
      "execution_count": 10,
      "outputs": [
        {
          "output_type": "stream",
          "name": "stdout",
          "text": [
            "<class 'int'> <class 'int'>\n"
          ]
        }
      ]
    },
    {
      "cell_type": "code",
      "source": [
        "int_c = int_a + int_b  #assign the value as the output of operation\n",
        "print(int_c)"
      ],
      "metadata": {
        "id": "rCcxhp7mGawR",
        "outputId": "cd7d03b3-27e8-437b-dc57-be4c810c16e4",
        "colab": {
          "base_uri": "https://localhost:8080/"
        }
      },
      "execution_count": 11,
      "outputs": [
        {
          "output_type": "stream",
          "name": "stdout",
          "text": [
            "9\n"
          ]
        }
      ]
    },
    {
      "cell_type": "markdown",
      "source": [
        "Float (จำนวนจริง ทศนิยม)"
      ],
      "metadata": {
        "id": "VVYZgJb1Gz0M"
      }
    },
    {
      "cell_type": "code",
      "source": [
        "fl_a = 7.\n",
        "fl_b = 2.571\n",
        "print(type(fl_a))"
      ],
      "metadata": {
        "id": "5390phluG4oJ",
        "outputId": "6bc05ef9-0304-4b9b-f8c3-e9722aebce7d",
        "colab": {
          "base_uri": "https://localhost:8080/"
        }
      },
      "execution_count": 12,
      "outputs": [
        {
          "output_type": "stream",
          "name": "stdout",
          "text": [
            "<class 'float'>\n"
          ]
        }
      ]
    },
    {
      "cell_type": "code",
      "source": [
        "print(fl_a)   #แสดงเป็นทศนิยม"
      ],
      "metadata": {
        "id": "Cq74qoBjHUon",
        "outputId": "defa644f-4234-4fb7-b454-da64bd74ec51",
        "colab": {
          "base_uri": "https://localhost:8080/"
        }
      },
      "execution_count": 13,
      "outputs": [
        {
          "output_type": "stream",
          "name": "stdout",
          "text": [
            "7.0\n"
          ]
        }
      ]
    },
    {
      "cell_type": "markdown",
      "source": [
        "## Boolean (ตัวแปรที่มีค่า True หรือ False) ตรรกศาสตร์"
      ],
      "metadata": {
        "id": "EiPfLPxNHa7Q"
      }
    },
    {
      "cell_type": "code",
      "source": [
        "ิb_T = True\n",
        "b_F = False"
      ],
      "metadata": {
        "id": "mbw4ASooHidL"
      },
      "execution_count": null,
      "outputs": []
    },
    {
      "cell_type": "markdown",
      "source": [
        "```==```equal,```!=```not equal,```>```greater than,```<=```less than or equal, ```|``` or, ```&``` and\\"
      ],
      "metadata": {
        "id": "I-p5OALQHoFr"
      }
    },
    {
      "cell_type": "code",
      "source": [
        "ิb_T = True\n",
        "b_F = False\n",
        "Print(b_T | b_F)"
      ],
      "metadata": {
        "id": "OiNJNcYtH-0g",
        "outputId": "52156b0b-2a15-4292-f8f1-a5e2963df6e7",
        "colab": {
          "base_uri": "https://localhost:8080/",
          "height": 134
        }
      },
      "execution_count": 18,
      "outputs": [
        {
          "output_type": "error",
          "ename": "SyntaxError",
          "evalue": "ignored",
          "traceback": [
            "\u001b[0;36m  File \u001b[0;32m\"<ipython-input-18-784c03805f2c>\"\u001b[0;36m, line \u001b[0;32m1\u001b[0m\n\u001b[0;31m    ิb_T = True\u001b[0m\n\u001b[0m    ^\u001b[0m\n\u001b[0;31mSyntaxError\u001b[0m\u001b[0;31m:\u001b[0m invalid character 'ิ' (U+0E34)\n"
          ]
        }
      ]
    },
    {
      "cell_type": "markdown",
      "source": [
        "## Complex number (จำนวนเชิงซ้อน)"
      ],
      "metadata": {
        "id": "Jh-P4nyLIaxj"
      }
    },
    {
      "cell_type": "code",
      "source": [
        "x = 1 + 2j"
      ],
      "metadata": {
        "id": "KQGh5CPAIgW_"
      },
      "execution_count": null,
      "outputs": []
    },
    {
      "cell_type": "markdown",
      "source": [
        "we can chack the datatype with type()"
      ],
      "metadata": {
        "id": "MGfULlsTIlLD"
      }
    },
    {
      "cell_type": "code",
      "source": [
        "x = 1 + 2j\n",
        "print(f'variable x value is {x} and datatype is {type(x)}')  #เอาไว้ดู"
      ],
      "metadata": {
        "id": "tXvS9ryBIq-l",
        "outputId": "d506abed-2cc8-4f3b-c08c-8d8fc6ef80a6",
        "colab": {
          "base_uri": "https://localhost:8080/"
        }
      },
      "execution_count": 17,
      "outputs": [
        {
          "output_type": "stream",
          "name": "stdout",
          "text": [
            "variable x value is (1+2j) and datatype is <class 'complex'>\n"
          ]
        }
      ]
    },
    {
      "cell_type": "code",
      "source": [
        "print(f'variable A value is {A} and datatype is {type(A)}')"
      ],
      "metadata": {
        "id": "q-h8hKNYJRe8",
        "outputId": "a982970b-b767-459f-edf2-d69957469cb1",
        "colab": {
          "base_uri": "https://localhost:8080/",
          "height": 170
        }
      },
      "execution_count": 19,
      "outputs": [
        {
          "output_type": "error",
          "ename": "NameError",
          "evalue": "ignored",
          "traceback": [
            "\u001b[0;31m---------------------------------------------------------------------------\u001b[0m",
            "\u001b[0;31mNameError\u001b[0m                                 Traceback (most recent call last)",
            "\u001b[0;32m<ipython-input-19-ab378561656a>\u001b[0m in \u001b[0;36m<cell line: 1>\u001b[0;34m()\u001b[0m\n\u001b[0;32m----> 1\u001b[0;31m \u001b[0mprint\u001b[0m\u001b[0;34m(\u001b[0m\u001b[0;34mf'variable A value is {A} and datatype is {type(A)}'\u001b[0m\u001b[0;34m)\u001b[0m\u001b[0;34m\u001b[0m\u001b[0;34m\u001b[0m\u001b[0m\n\u001b[0m",
            "\u001b[0;31mNameError\u001b[0m: name 'A' is not defined"
          ]
        }
      ]
    },
    {
      "cell_type": "markdown",
      "source": [
        "Variable Casting (การแปลงชนิดของตัวแปร)"
      ],
      "metadata": {
        "id": "aW1rRafGJuzJ"
      }
    },
    {
      "cell_type": "code",
      "source": [
        "print(f'int_a = {int_a} int_b = {int_b} Fl_a = {fl_a} Fl_b  ={fl_b}')"
      ],
      "metadata": {
        "id": "xGq4tAjqJ05k",
        "outputId": "5bc6a96d-8932-4fc9-c674-6b10a861d6a3",
        "colab": {
          "base_uri": "https://localhost:8080/"
        }
      },
      "execution_count": 20,
      "outputs": [
        {
          "output_type": "stream",
          "name": "stdout",
          "text": [
            "int_a = 7 int_b = 2 Fl_a = 7.0 Fl_b  =2.571\n"
          ]
        }
      ]
    },
    {
      "cell_type": "code",
      "source": [
        "str_a = '6'\n",
        "str_b = '-2'\n",
        "str_a2int = int(str_a)  #transform string into int\n",
        "print(f'variable str_a2int value is {str_a2int} and datat type is {type(str_a2int)}')"
      ],
      "metadata": {
        "id": "rPwVcHRiKIZF",
        "outputId": "31f8e68b-269c-42a1-c505-48f3c03c209f",
        "colab": {
          "base_uri": "https://localhost:8080/"
        }
      },
      "execution_count": 21,
      "outputs": [
        {
          "output_type": "stream",
          "name": "stdout",
          "text": [
            "variable str_a2int value is 6 and datat type is <class 'int'>\n"
          ]
        }
      ]
    },
    {
      "cell_type": "code",
      "source": [
        "print(str_a2int + int_a)"
      ],
      "metadata": {
        "id": "VnqLKbDcKwJ7",
        "outputId": "8dfab8bc-9242-4147-a1e4-e736a74871c7",
        "colab": {
          "base_uri": "https://localhost:8080/"
        }
      },
      "execution_count": 22,
      "outputs": [
        {
          "output_type": "stream",
          "name": "stdout",
          "text": [
            "13\n"
          ]
        }
      ]
    },
    {
      "cell_type": "code",
      "source": [
        "print(str(fl_b))  #transform float to string"
      ],
      "metadata": {
        "id": "uLAD7u2ULOxd",
        "outputId": "29600b5a-ba2b-4899-8be1-095990f96fd6",
        "colab": {
          "base_uri": "https://localhost:8080/"
        }
      },
      "execution_count": 23,
      "outputs": [
        {
          "output_type": "stream",
          "name": "stdout",
          "text": [
            "2.571\n"
          ]
        }
      ]
    },
    {
      "cell_type": "code",
      "source": [
        "int(fl_b) #transform float to int (but it will cut the floating point)"
      ],
      "metadata": {
        "id": "Bgeok7zjLYy6",
        "outputId": "cdfed300-bd86-4747-9c61-edbf15bbfab0",
        "colab": {
          "base_uri": "https://localhost:8080/"
        }
      },
      "execution_count": 24,
      "outputs": [
        {
          "output_type": "execute_result",
          "data": {
            "text/plain": [
              "2"
            ]
          },
          "metadata": {},
          "execution_count": 24
        }
      ]
    },
    {
      "cell_type": "markdown",
      "source": [
        "## Replace() แทนที่ string"
      ],
      "metadata": {
        "id": "8YCBRDMcL6Uc"
      }
    },
    {
      "cell_type": "code",
      "source": [
        "st_test1 = 'Department of Statistics,'\n",
        "print(st_test1.replace('e',' '))  #replace with space"
      ],
      "metadata": {
        "id": "rmLFABhwL_W1",
        "outputId": "784ce337-5ef2-4800-daa2-6158132f9f20",
        "colab": {
          "base_uri": "https://localhost:8080/"
        }
      },
      "execution_count": 26,
      "outputs": [
        {
          "output_type": "stream",
          "name": "stdout",
          "text": [
            "D partm nt of Statistics,\n"
          ]
        }
      ]
    },
    {
      "cell_type": "code",
      "source": [
        "print(st_test1)"
      ],
      "metadata": {
        "id": "siYoJPooMe2p",
        "outputId": "7c161a5c-e6a9-4425-ecd6-93edae462982",
        "colab": {
          "base_uri": "https://localhost:8080/"
        }
      },
      "execution_count": 27,
      "outputs": [
        {
          "output_type": "stream",
          "name": "stdout",
          "text": [
            "Department of Statistics,\n"
          ]
        }
      ]
    },
    {
      "cell_type": "code",
      "source": [
        "st_test2 = st_test1.replace('e',' ')\n",
        "print(st_test2)"
      ],
      "metadata": {
        "id": "O8j0W-OfMv5b",
        "outputId": "a97012bb-bd2b-448e-8e09-961a0eb4773b",
        "colab": {
          "base_uri": "https://localhost:8080/"
        }
      },
      "execution_count": 28,
      "outputs": [
        {
          "output_type": "stream",
          "name": "stdout",
          "text": [
            "D partm nt of Statistics,\n"
          ]
        }
      ]
    },
    {
      "cell_type": "code",
      "source": [
        "st_test1.replace('ti','TI')  #modift ti to TI"
      ],
      "metadata": {
        "id": "-31kbAH_NBAP",
        "outputId": "a0a9c9ef-d515-4afe-8881-38a2082a4bc1",
        "colab": {
          "base_uri": "https://localhost:8080/",
          "height": 35
        }
      },
      "execution_count": 29,
      "outputs": [
        {
          "output_type": "execute_result",
          "data": {
            "text/plain": [
              "'Department of StaTIsTIcs,'"
            ],
            "application/vnd.google.colaboratory.intrinsic+json": {
              "type": "string"
            }
          },
          "metadata": {},
          "execution_count": 29
        }
      ]
    },
    {
      "cell_type": "markdown",
      "source": [
        "## Split()  แยก string"
      ],
      "metadata": {
        "id": "YnBtBC76OACW"
      }
    },
    {
      "cell_type": "code",
      "source": [
        "'a b c d e f g'.split()  #ตัด string ที่ช่องว่าง"
      ],
      "metadata": {
        "id": "GsiOInbGOSkE",
        "outputId": "5ca6239b-281c-4266-8a6d-5fb73ef6ef43",
        "colab": {
          "base_uri": "https://localhost:8080/"
        }
      },
      "execution_count": 32,
      "outputs": [
        {
          "output_type": "execute_result",
          "data": {
            "text/plain": [
              "['a', 'b', 'c', 'd', 'e', 'f', 'g']"
            ]
          },
          "metadata": {},
          "execution_count": 32
        }
      ]
    },
    {
      "cell_type": "code",
      "source": [
        "'abc de fg'.split()"
      ],
      "metadata": {
        "id": "7Y5YKu1rO7iF",
        "outputId": "71cd2800-714f-4f91-ea44-8b88fa9d9d08",
        "colab": {
          "base_uri": "https://localhost:8080/"
        }
      },
      "execution_count": 33,
      "outputs": [
        {
          "output_type": "execute_result",
          "data": {
            "text/plain": [
              "['abc', 'de', 'fg']"
            ]
          },
          "metadata": {},
          "execution_count": 33
        }
      ]
    },
    {
      "cell_type": "code",
      "source": [
        "'a,b/c e/f g'.split('/')"
      ],
      "metadata": {
        "id": "T-iIxAukPEw8",
        "outputId": "629daae7-3bcb-4cfa-c589-db4077b6857a",
        "colab": {
          "base_uri": "https://localhost:8080/"
        }
      },
      "execution_count": 34,
      "outputs": [
        {
          "output_type": "execute_result",
          "data": {
            "text/plain": [
              "['a,b', 'c e', 'f g']"
            ]
          },
          "metadata": {},
          "execution_count": 34
        }
      ]
    }
  ]
}