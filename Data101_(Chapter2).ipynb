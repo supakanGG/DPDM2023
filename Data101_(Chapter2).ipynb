{
  "nbformat": 4,
  "nbformat_minor": 0,
  "metadata": {
    "colab": {
      "provenance": [],
      "authorship_tag": "ABX9TyO4Ky6UleSwty6fc2+S644p",
      "include_colab_link": true
    },
    "kernelspec": {
      "name": "python3",
      "display_name": "Python 3"
    },
    "language_info": {
      "name": "python"
    }
  },
  "cells": [
    {
      "cell_type": "markdown",
      "metadata": {
        "id": "view-in-github",
        "colab_type": "text"
      },
      "source": [
        "<a href=\"https://colab.research.google.com/github/supakanGG/DPDM2023/blob/main/Data101_(Chapter2).ipynb\" target=\"_parent\"><img src=\"https://colab.research.google.com/assets/colab-badge.svg\" alt=\"Open In Colab\"/></a>"
      ]
    },
    {
      "cell_type": "markdown",
      "source": [
        "##Pandas"
      ],
      "metadata": {
        "id": "ME2HQDVf9Wm2"
      }
    },
    {
      "cell_type": "markdown",
      "source": [
        "*panda* is a python for manage table data\n",
        "panda data structure for table is data frame\n",
        "pandas คือ package ที่มีคนพัฒนาขึ้นมาเพื่อใช้จัดการข้อมูลที่มีลักษณะเป็นตาราง ซึ่งใน pandas เรียกว่า dataframe"
      ],
      "metadata": {
        "id": "4pDCF_td2iII"
      }
    },
    {
      "cell_type": "code",
      "execution_count": null,
      "metadata": {
        "id": "pKo2-3-I1e-3"
      },
      "outputs": [],
      "source": [
        "import pandas #we use import to pandas define a package that we are using."
      ]
    },
    {
      "cell_type": "code",
      "source": [
        "import pandas as pd #import package and name it as...."
      ],
      "metadata": {
        "id": "1KIopND43T2N"
      },
      "execution_count": null,
      "outputs": []
    },
    {
      "cell_type": "markdown",
      "source": [
        "ไฟล์ .CSV (csv = comma separated values)\n",
        "- use comma (,) to separate values\n",
        "- use new line (enter\\n) to separate data points\n",
        "ใช้เครื่องหมาย comma ในการแบ่ง(คั่น)แต่ละ Columns\n",
        "ขึ้น record ใหม่จะใช้การ Enter"
      ],
      "metadata": {
        "id": "mJlegvsH5uw7"
      }
    },
    {
      "cell_type": "code",
      "source": [
        "data_df = pd.read_csv('/content/data.csv')"
      ],
      "metadata": {
        "id": "fWDzz0zP5zhr"
      },
      "execution_count": null,
      "outputs": []
    },
    {
      "cell_type": "markdown",
      "source": [
        "- 🍀function ชื่อว่า \"read_csv\" จะเรียกข้อมูลให้ออกมาอยู่ใน format ของตาราง\n",
        "\n",
        "> Indented block\n",
        "\n"
      ],
      "metadata": {
        "id": "VasK9PSV6uNn"
      }
    },
    {
      "cell_type": "code",
      "source": [
        "data_df #เรียกดูตาราง csv."
      ],
      "metadata": {
        "colab": {
          "base_uri": "https://localhost:8080/",
          "height": 174
        },
        "id": "MJSUrLa-6vyj",
        "outputId": "c79439bf-1df6-492a-efe8-f35a60eced91"
      },
      "execution_count": null,
      "outputs": [
        {
          "output_type": "execute_result",
          "data": {
            "text/plain": [
              "                                  CSV => comma separated values\n",
              "Car_ID  Model        Year  Value                        Pers_ID\n",
              "101     Bentley      1973  100000                             0\n",
              "102     Rolls Royce  1965  330000                             0\n",
              "103     Peugeot      1993  500                                3"
            ],
            "text/html": [
              "\n",
              "\n",
              "  <div id=\"df-017e75da-40dd-4a18-a363-c57b9faeb815\">\n",
              "    <div class=\"colab-df-container\">\n",
              "      <div>\n",
              "<style scoped>\n",
              "    .dataframe tbody tr th:only-of-type {\n",
              "        vertical-align: middle;\n",
              "    }\n",
              "\n",
              "    .dataframe tbody tr th {\n",
              "        vertical-align: top;\n",
              "    }\n",
              "\n",
              "    .dataframe thead th {\n",
              "        text-align: right;\n",
              "    }\n",
              "</style>\n",
              "<table border=\"1\" class=\"dataframe\">\n",
              "  <thead>\n",
              "    <tr style=\"text-align: right;\">\n",
              "      <th></th>\n",
              "      <th></th>\n",
              "      <th></th>\n",
              "      <th></th>\n",
              "      <th>CSV =&gt; comma separated values</th>\n",
              "    </tr>\n",
              "  </thead>\n",
              "  <tbody>\n",
              "    <tr>\n",
              "      <th>Car_ID</th>\n",
              "      <th>Model</th>\n",
              "      <th>Year</th>\n",
              "      <th>Value</th>\n",
              "      <td>Pers_ID</td>\n",
              "    </tr>\n",
              "    <tr>\n",
              "      <th>101</th>\n",
              "      <th>Bentley</th>\n",
              "      <th>1973</th>\n",
              "      <th>100000</th>\n",
              "      <td>0</td>\n",
              "    </tr>\n",
              "    <tr>\n",
              "      <th>102</th>\n",
              "      <th>Rolls Royce</th>\n",
              "      <th>1965</th>\n",
              "      <th>330000</th>\n",
              "      <td>0</td>\n",
              "    </tr>\n",
              "    <tr>\n",
              "      <th>103</th>\n",
              "      <th>Peugeot</th>\n",
              "      <th>1993</th>\n",
              "      <th>500</th>\n",
              "      <td>3</td>\n",
              "    </tr>\n",
              "  </tbody>\n",
              "</table>\n",
              "</div>\n",
              "      <button class=\"colab-df-convert\" onclick=\"convertToInteractive('df-017e75da-40dd-4a18-a363-c57b9faeb815')\"\n",
              "              title=\"Convert this dataframe to an interactive table.\"\n",
              "              style=\"display:none;\">\n",
              "\n",
              "  <svg xmlns=\"http://www.w3.org/2000/svg\" height=\"24px\"viewBox=\"0 0 24 24\"\n",
              "       width=\"24px\">\n",
              "    <path d=\"M0 0h24v24H0V0z\" fill=\"none\"/>\n",
              "    <path d=\"M18.56 5.44l.94 2.06.94-2.06 2.06-.94-2.06-.94-.94-2.06-.94 2.06-2.06.94zm-11 1L8.5 8.5l.94-2.06 2.06-.94-2.06-.94L8.5 2.5l-.94 2.06-2.06.94zm10 10l.94 2.06.94-2.06 2.06-.94-2.06-.94-.94-2.06-.94 2.06-2.06.94z\"/><path d=\"M17.41 7.96l-1.37-1.37c-.4-.4-.92-.59-1.43-.59-.52 0-1.04.2-1.43.59L10.3 9.45l-7.72 7.72c-.78.78-.78 2.05 0 2.83L4 21.41c.39.39.9.59 1.41.59.51 0 1.02-.2 1.41-.59l7.78-7.78 2.81-2.81c.8-.78.8-2.07 0-2.86zM5.41 20L4 18.59l7.72-7.72 1.47 1.35L5.41 20z\"/>\n",
              "  </svg>\n",
              "      </button>\n",
              "\n",
              "\n",
              "\n",
              "    <div id=\"df-15c87424-3ef6-45b0-ad39-3bdd6968b9b8\">\n",
              "      <button class=\"colab-df-quickchart\" onclick=\"quickchart('df-15c87424-3ef6-45b0-ad39-3bdd6968b9b8')\"\n",
              "              title=\"Suggest charts.\"\n",
              "              style=\"display:none;\">\n",
              "\n",
              "<svg xmlns=\"http://www.w3.org/2000/svg\" height=\"24px\"viewBox=\"0 0 24 24\"\n",
              "     width=\"24px\">\n",
              "    <g>\n",
              "        <path d=\"M19 3H5c-1.1 0-2 .9-2 2v14c0 1.1.9 2 2 2h14c1.1 0 2-.9 2-2V5c0-1.1-.9-2-2-2zM9 17H7v-7h2v7zm4 0h-2V7h2v10zm4 0h-2v-4h2v4z\"/>\n",
              "    </g>\n",
              "</svg>\n",
              "      </button>\n",
              "    </div>\n",
              "\n",
              "<style>\n",
              "  .colab-df-quickchart {\n",
              "    background-color: #E8F0FE;\n",
              "    border: none;\n",
              "    border-radius: 50%;\n",
              "    cursor: pointer;\n",
              "    display: none;\n",
              "    fill: #1967D2;\n",
              "    height: 32px;\n",
              "    padding: 0 0 0 0;\n",
              "    width: 32px;\n",
              "  }\n",
              "\n",
              "  .colab-df-quickchart:hover {\n",
              "    background-color: #E2EBFA;\n",
              "    box-shadow: 0px 1px 2px rgba(60, 64, 67, 0.3), 0px 1px 3px 1px rgba(60, 64, 67, 0.15);\n",
              "    fill: #174EA6;\n",
              "  }\n",
              "\n",
              "  [theme=dark] .colab-df-quickchart {\n",
              "    background-color: #3B4455;\n",
              "    fill: #D2E3FC;\n",
              "  }\n",
              "\n",
              "  [theme=dark] .colab-df-quickchart:hover {\n",
              "    background-color: #434B5C;\n",
              "    box-shadow: 0px 1px 3px 1px rgba(0, 0, 0, 0.15);\n",
              "    filter: drop-shadow(0px 1px 2px rgba(0, 0, 0, 0.3));\n",
              "    fill: #FFFFFF;\n",
              "  }\n",
              "</style>\n",
              "\n",
              "    <script>\n",
              "      async function quickchart(key) {\n",
              "        const containerElement = document.querySelector('#' + key);\n",
              "        const charts = await google.colab.kernel.invokeFunction(\n",
              "            'suggestCharts', [key], {});\n",
              "      }\n",
              "    </script>\n",
              "\n",
              "      <script>\n",
              "\n",
              "function displayQuickchartButton(domScope) {\n",
              "  let quickchartButtonEl =\n",
              "    domScope.querySelector('#df-15c87424-3ef6-45b0-ad39-3bdd6968b9b8 button.colab-df-quickchart');\n",
              "  quickchartButtonEl.style.display =\n",
              "    google.colab.kernel.accessAllowed ? 'block' : 'none';\n",
              "}\n",
              "\n",
              "        displayQuickchartButton(document);\n",
              "      </script>\n",
              "      <style>\n",
              "    .colab-df-container {\n",
              "      display:flex;\n",
              "      flex-wrap:wrap;\n",
              "      gap: 12px;\n",
              "    }\n",
              "\n",
              "    .colab-df-convert {\n",
              "      background-color: #E8F0FE;\n",
              "      border: none;\n",
              "      border-radius: 50%;\n",
              "      cursor: pointer;\n",
              "      display: none;\n",
              "      fill: #1967D2;\n",
              "      height: 32px;\n",
              "      padding: 0 0 0 0;\n",
              "      width: 32px;\n",
              "    }\n",
              "\n",
              "    .colab-df-convert:hover {\n",
              "      background-color: #E2EBFA;\n",
              "      box-shadow: 0px 1px 2px rgba(60, 64, 67, 0.3), 0px 1px 3px 1px rgba(60, 64, 67, 0.15);\n",
              "      fill: #174EA6;\n",
              "    }\n",
              "\n",
              "    [theme=dark] .colab-df-convert {\n",
              "      background-color: #3B4455;\n",
              "      fill: #D2E3FC;\n",
              "    }\n",
              "\n",
              "    [theme=dark] .colab-df-convert:hover {\n",
              "      background-color: #434B5C;\n",
              "      box-shadow: 0px 1px 3px 1px rgba(0, 0, 0, 0.15);\n",
              "      filter: drop-shadow(0px 1px 2px rgba(0, 0, 0, 0.3));\n",
              "      fill: #FFFFFF;\n",
              "    }\n",
              "  </style>\n",
              "\n",
              "      <script>\n",
              "        const buttonEl =\n",
              "          document.querySelector('#df-017e75da-40dd-4a18-a363-c57b9faeb815 button.colab-df-convert');\n",
              "        buttonEl.style.display =\n",
              "          google.colab.kernel.accessAllowed ? 'block' : 'none';\n",
              "\n",
              "        async function convertToInteractive(key) {\n",
              "          const element = document.querySelector('#df-017e75da-40dd-4a18-a363-c57b9faeb815');\n",
              "          const dataTable =\n",
              "            await google.colab.kernel.invokeFunction('convertToInteractive',\n",
              "                                                     [key], {});\n",
              "          if (!dataTable) return;\n",
              "\n",
              "          const docLinkHtml = 'Like what you see? Visit the ' +\n",
              "            '<a target=\"_blank\" href=https://colab.research.google.com/notebooks/data_table.ipynb>data table notebook</a>'\n",
              "            + ' to learn more about interactive tables.';\n",
              "          element.innerHTML = '';\n",
              "          dataTable['output_type'] = 'display_data';\n",
              "          await google.colab.output.renderOutput(dataTable, element);\n",
              "          const docLink = document.createElement('div');\n",
              "          docLink.innerHTML = docLinkHtml;\n",
              "          element.appendChild(docLink);\n",
              "        }\n",
              "      </script>\n",
              "    </div>\n",
              "  </div>\n"
            ]
          },
          "metadata": {},
          "execution_count": 5
        }
      ]
    },
    {
      "cell_type": "markdown",
      "source": [
        "## Data structure\n"
      ],
      "metadata": {
        "id": "VYFCEYU285bo"
      }
    },
    {
      "cell_type": "markdown",
      "source": [
        "### list\n",
        "- list is a container to keep everything\n",
        "- it give attention to order of the thing in the container"
      ],
      "metadata": {
        "id": "HOBSxHzk9G7R"
      }
    },
    {
      "cell_type": "code",
      "source": [
        "list_a = [1,2,3,0,9,'aaz', data_df]  ## [] (square brackets)"
      ],
      "metadata": {
        "id": "D3gqi2pd9axD"
      },
      "execution_count": null,
      "outputs": []
    },
    {
      "cell_type": "code",
      "source": [
        "list_a"
      ],
      "metadata": {
        "colab": {
          "base_uri": "https://localhost:8080/"
        },
        "id": "n1WMNWaO9uWu",
        "outputId": "e98c2653-91b0-4b5d-9bd7-b5f8ca74c895"
      },
      "execution_count": null,
      "outputs": [
        {
          "output_type": "execute_result",
          "data": {
            "text/plain": [
              "[1,\n",
              " 2,\n",
              " 3,\n",
              " 0,\n",
              " 9,\n",
              " 'aaz',\n",
              "                                   CSV => comma separated values\n",
              " Car_ID  Model        Year  Value                        Pers_ID\n",
              " 101     Bentley      1973  100000                             0\n",
              " 102     Rolls Royce  1965  330000                             0\n",
              " 103     Peugeot      1993  500                                3]"
            ]
          },
          "metadata": {},
          "execution_count": 8
        }
      ]
    },
    {
      "cell_type": "markdown",
      "source": [
        "### indexing"
      ],
      "metadata": {
        "id": "BpmddCLQ99X-"
      }
    },
    {
      "cell_type": "code",
      "source": [
        "list_a [1]"
      ],
      "metadata": {
        "colab": {
          "base_uri": "https://localhost:8080/"
        },
        "id": "kT4Qygvi9xO3",
        "outputId": "3db9aa8d-afd5-401d-dbad-5ccf46852c59"
      },
      "execution_count": null,
      "outputs": [
        {
          "output_type": "execute_result",
          "data": {
            "text/plain": [
              "2"
            ]
          },
          "metadata": {},
          "execution_count": 9
        }
      ]
    },
    {
      "cell_type": "code",
      "source": [
        "list_a [6]"
      ],
      "metadata": {
        "colab": {
          "base_uri": "https://localhost:8080/",
          "height": 174
        },
        "id": "4UOxYjMd-OV0",
        "outputId": "ba5456f6-77c5-4a1d-fdef-0850e9fb5f34"
      },
      "execution_count": null,
      "outputs": [
        {
          "output_type": "execute_result",
          "data": {
            "text/plain": [
              "                                  CSV => comma separated values\n",
              "Car_ID  Model        Year  Value                        Pers_ID\n",
              "101     Bentley      1973  100000                             0\n",
              "102     Rolls Royce  1965  330000                             0\n",
              "103     Peugeot      1993  500                                3"
            ],
            "text/html": [
              "\n",
              "\n",
              "  <div id=\"df-0daab01c-8c35-4e7d-ae5d-ecae9dde02cc\">\n",
              "    <div class=\"colab-df-container\">\n",
              "      <div>\n",
              "<style scoped>\n",
              "    .dataframe tbody tr th:only-of-type {\n",
              "        vertical-align: middle;\n",
              "    }\n",
              "\n",
              "    .dataframe tbody tr th {\n",
              "        vertical-align: top;\n",
              "    }\n",
              "\n",
              "    .dataframe thead th {\n",
              "        text-align: right;\n",
              "    }\n",
              "</style>\n",
              "<table border=\"1\" class=\"dataframe\">\n",
              "  <thead>\n",
              "    <tr style=\"text-align: right;\">\n",
              "      <th></th>\n",
              "      <th></th>\n",
              "      <th></th>\n",
              "      <th></th>\n",
              "      <th>CSV =&gt; comma separated values</th>\n",
              "    </tr>\n",
              "  </thead>\n",
              "  <tbody>\n",
              "    <tr>\n",
              "      <th>Car_ID</th>\n",
              "      <th>Model</th>\n",
              "      <th>Year</th>\n",
              "      <th>Value</th>\n",
              "      <td>Pers_ID</td>\n",
              "    </tr>\n",
              "    <tr>\n",
              "      <th>101</th>\n",
              "      <th>Bentley</th>\n",
              "      <th>1973</th>\n",
              "      <th>100000</th>\n",
              "      <td>0</td>\n",
              "    </tr>\n",
              "    <tr>\n",
              "      <th>102</th>\n",
              "      <th>Rolls Royce</th>\n",
              "      <th>1965</th>\n",
              "      <th>330000</th>\n",
              "      <td>0</td>\n",
              "    </tr>\n",
              "    <tr>\n",
              "      <th>103</th>\n",
              "      <th>Peugeot</th>\n",
              "      <th>1993</th>\n",
              "      <th>500</th>\n",
              "      <td>3</td>\n",
              "    </tr>\n",
              "  </tbody>\n",
              "</table>\n",
              "</div>\n",
              "      <button class=\"colab-df-convert\" onclick=\"convertToInteractive('df-0daab01c-8c35-4e7d-ae5d-ecae9dde02cc')\"\n",
              "              title=\"Convert this dataframe to an interactive table.\"\n",
              "              style=\"display:none;\">\n",
              "\n",
              "  <svg xmlns=\"http://www.w3.org/2000/svg\" height=\"24px\"viewBox=\"0 0 24 24\"\n",
              "       width=\"24px\">\n",
              "    <path d=\"M0 0h24v24H0V0z\" fill=\"none\"/>\n",
              "    <path d=\"M18.56 5.44l.94 2.06.94-2.06 2.06-.94-2.06-.94-.94-2.06-.94 2.06-2.06.94zm-11 1L8.5 8.5l.94-2.06 2.06-.94-2.06-.94L8.5 2.5l-.94 2.06-2.06.94zm10 10l.94 2.06.94-2.06 2.06-.94-2.06-.94-.94-2.06-.94 2.06-2.06.94z\"/><path d=\"M17.41 7.96l-1.37-1.37c-.4-.4-.92-.59-1.43-.59-.52 0-1.04.2-1.43.59L10.3 9.45l-7.72 7.72c-.78.78-.78 2.05 0 2.83L4 21.41c.39.39.9.59 1.41.59.51 0 1.02-.2 1.41-.59l7.78-7.78 2.81-2.81c.8-.78.8-2.07 0-2.86zM5.41 20L4 18.59l7.72-7.72 1.47 1.35L5.41 20z\"/>\n",
              "  </svg>\n",
              "      </button>\n",
              "\n",
              "\n",
              "\n",
              "    <div id=\"df-326c8089-4767-4cfc-adc5-3380bef36bd3\">\n",
              "      <button class=\"colab-df-quickchart\" onclick=\"quickchart('df-326c8089-4767-4cfc-adc5-3380bef36bd3')\"\n",
              "              title=\"Suggest charts.\"\n",
              "              style=\"display:none;\">\n",
              "\n",
              "<svg xmlns=\"http://www.w3.org/2000/svg\" height=\"24px\"viewBox=\"0 0 24 24\"\n",
              "     width=\"24px\">\n",
              "    <g>\n",
              "        <path d=\"M19 3H5c-1.1 0-2 .9-2 2v14c0 1.1.9 2 2 2h14c1.1 0 2-.9 2-2V5c0-1.1-.9-2-2-2zM9 17H7v-7h2v7zm4 0h-2V7h2v10zm4 0h-2v-4h2v4z\"/>\n",
              "    </g>\n",
              "</svg>\n",
              "      </button>\n",
              "    </div>\n",
              "\n",
              "<style>\n",
              "  .colab-df-quickchart {\n",
              "    background-color: #E8F0FE;\n",
              "    border: none;\n",
              "    border-radius: 50%;\n",
              "    cursor: pointer;\n",
              "    display: none;\n",
              "    fill: #1967D2;\n",
              "    height: 32px;\n",
              "    padding: 0 0 0 0;\n",
              "    width: 32px;\n",
              "  }\n",
              "\n",
              "  .colab-df-quickchart:hover {\n",
              "    background-color: #E2EBFA;\n",
              "    box-shadow: 0px 1px 2px rgba(60, 64, 67, 0.3), 0px 1px 3px 1px rgba(60, 64, 67, 0.15);\n",
              "    fill: #174EA6;\n",
              "  }\n",
              "\n",
              "  [theme=dark] .colab-df-quickchart {\n",
              "    background-color: #3B4455;\n",
              "    fill: #D2E3FC;\n",
              "  }\n",
              "\n",
              "  [theme=dark] .colab-df-quickchart:hover {\n",
              "    background-color: #434B5C;\n",
              "    box-shadow: 0px 1px 3px 1px rgba(0, 0, 0, 0.15);\n",
              "    filter: drop-shadow(0px 1px 2px rgba(0, 0, 0, 0.3));\n",
              "    fill: #FFFFFF;\n",
              "  }\n",
              "</style>\n",
              "\n",
              "    <script>\n",
              "      async function quickchart(key) {\n",
              "        const containerElement = document.querySelector('#' + key);\n",
              "        const charts = await google.colab.kernel.invokeFunction(\n",
              "            'suggestCharts', [key], {});\n",
              "      }\n",
              "    </script>\n",
              "\n",
              "      <script>\n",
              "\n",
              "function displayQuickchartButton(domScope) {\n",
              "  let quickchartButtonEl =\n",
              "    domScope.querySelector('#df-326c8089-4767-4cfc-adc5-3380bef36bd3 button.colab-df-quickchart');\n",
              "  quickchartButtonEl.style.display =\n",
              "    google.colab.kernel.accessAllowed ? 'block' : 'none';\n",
              "}\n",
              "\n",
              "        displayQuickchartButton(document);\n",
              "      </script>\n",
              "      <style>\n",
              "    .colab-df-container {\n",
              "      display:flex;\n",
              "      flex-wrap:wrap;\n",
              "      gap: 12px;\n",
              "    }\n",
              "\n",
              "    .colab-df-convert {\n",
              "      background-color: #E8F0FE;\n",
              "      border: none;\n",
              "      border-radius: 50%;\n",
              "      cursor: pointer;\n",
              "      display: none;\n",
              "      fill: #1967D2;\n",
              "      height: 32px;\n",
              "      padding: 0 0 0 0;\n",
              "      width: 32px;\n",
              "    }\n",
              "\n",
              "    .colab-df-convert:hover {\n",
              "      background-color: #E2EBFA;\n",
              "      box-shadow: 0px 1px 2px rgba(60, 64, 67, 0.3), 0px 1px 3px 1px rgba(60, 64, 67, 0.15);\n",
              "      fill: #174EA6;\n",
              "    }\n",
              "\n",
              "    [theme=dark] .colab-df-convert {\n",
              "      background-color: #3B4455;\n",
              "      fill: #D2E3FC;\n",
              "    }\n",
              "\n",
              "    [theme=dark] .colab-df-convert:hover {\n",
              "      background-color: #434B5C;\n",
              "      box-shadow: 0px 1px 3px 1px rgba(0, 0, 0, 0.15);\n",
              "      filter: drop-shadow(0px 1px 2px rgba(0, 0, 0, 0.3));\n",
              "      fill: #FFFFFF;\n",
              "    }\n",
              "  </style>\n",
              "\n",
              "      <script>\n",
              "        const buttonEl =\n",
              "          document.querySelector('#df-0daab01c-8c35-4e7d-ae5d-ecae9dde02cc button.colab-df-convert');\n",
              "        buttonEl.style.display =\n",
              "          google.colab.kernel.accessAllowed ? 'block' : 'none';\n",
              "\n",
              "        async function convertToInteractive(key) {\n",
              "          const element = document.querySelector('#df-0daab01c-8c35-4e7d-ae5d-ecae9dde02cc');\n",
              "          const dataTable =\n",
              "            await google.colab.kernel.invokeFunction('convertToInteractive',\n",
              "                                                     [key], {});\n",
              "          if (!dataTable) return;\n",
              "\n",
              "          const docLinkHtml = 'Like what you see? Visit the ' +\n",
              "            '<a target=\"_blank\" href=https://colab.research.google.com/notebooks/data_table.ipynb>data table notebook</a>'\n",
              "            + ' to learn more about interactive tables.';\n",
              "          element.innerHTML = '';\n",
              "          dataTable['output_type'] = 'display_data';\n",
              "          await google.colab.output.renderOutput(dataTable, element);\n",
              "          const docLink = document.createElement('div');\n",
              "          docLink.innerHTML = docLinkHtml;\n",
              "          element.appendChild(docLink);\n",
              "        }\n",
              "      </script>\n",
              "    </div>\n",
              "  </div>\n"
            ]
          },
          "metadata": {},
          "execution_count": 11
        }
      ]
    },
    {
      "cell_type": "markdown",
      "source": [
        "### *negative* index to get value from the end of the list\n",
        "ไล่จากท้ายขึ้นมา"
      ],
      "metadata": {
        "id": "txcyA7-r-WGN"
      }
    },
    {
      "cell_type": "code",
      "source": [
        "list_a [-1]  ##Negative index"
      ],
      "metadata": {
        "colab": {
          "base_uri": "https://localhost:8080/",
          "height": 174
        },
        "id": "hdBzLD6q-S-B",
        "outputId": "3764dbf9-533b-4d83-b73c-8b37235308f4"
      },
      "execution_count": null,
      "outputs": [
        {
          "output_type": "execute_result",
          "data": {
            "text/plain": [
              "                                  CSV => comma separated values\n",
              "Car_ID  Model        Year  Value                        Pers_ID\n",
              "101     Bentley      1973  100000                             0\n",
              "102     Rolls Royce  1965  330000                             0\n",
              "103     Peugeot      1993  500                                3"
            ],
            "text/html": [
              "\n",
              "\n",
              "  <div id=\"df-b4f07f85-3260-45c2-a6b4-b729dff44717\">\n",
              "    <div class=\"colab-df-container\">\n",
              "      <div>\n",
              "<style scoped>\n",
              "    .dataframe tbody tr th:only-of-type {\n",
              "        vertical-align: middle;\n",
              "    }\n",
              "\n",
              "    .dataframe tbody tr th {\n",
              "        vertical-align: top;\n",
              "    }\n",
              "\n",
              "    .dataframe thead th {\n",
              "        text-align: right;\n",
              "    }\n",
              "</style>\n",
              "<table border=\"1\" class=\"dataframe\">\n",
              "  <thead>\n",
              "    <tr style=\"text-align: right;\">\n",
              "      <th></th>\n",
              "      <th></th>\n",
              "      <th></th>\n",
              "      <th></th>\n",
              "      <th>CSV =&gt; comma separated values</th>\n",
              "    </tr>\n",
              "  </thead>\n",
              "  <tbody>\n",
              "    <tr>\n",
              "      <th>Car_ID</th>\n",
              "      <th>Model</th>\n",
              "      <th>Year</th>\n",
              "      <th>Value</th>\n",
              "      <td>Pers_ID</td>\n",
              "    </tr>\n",
              "    <tr>\n",
              "      <th>101</th>\n",
              "      <th>Bentley</th>\n",
              "      <th>1973</th>\n",
              "      <th>100000</th>\n",
              "      <td>0</td>\n",
              "    </tr>\n",
              "    <tr>\n",
              "      <th>102</th>\n",
              "      <th>Rolls Royce</th>\n",
              "      <th>1965</th>\n",
              "      <th>330000</th>\n",
              "      <td>0</td>\n",
              "    </tr>\n",
              "    <tr>\n",
              "      <th>103</th>\n",
              "      <th>Peugeot</th>\n",
              "      <th>1993</th>\n",
              "      <th>500</th>\n",
              "      <td>3</td>\n",
              "    </tr>\n",
              "  </tbody>\n",
              "</table>\n",
              "</div>\n",
              "      <button class=\"colab-df-convert\" onclick=\"convertToInteractive('df-b4f07f85-3260-45c2-a6b4-b729dff44717')\"\n",
              "              title=\"Convert this dataframe to an interactive table.\"\n",
              "              style=\"display:none;\">\n",
              "\n",
              "  <svg xmlns=\"http://www.w3.org/2000/svg\" height=\"24px\"viewBox=\"0 0 24 24\"\n",
              "       width=\"24px\">\n",
              "    <path d=\"M0 0h24v24H0V0z\" fill=\"none\"/>\n",
              "    <path d=\"M18.56 5.44l.94 2.06.94-2.06 2.06-.94-2.06-.94-.94-2.06-.94 2.06-2.06.94zm-11 1L8.5 8.5l.94-2.06 2.06-.94-2.06-.94L8.5 2.5l-.94 2.06-2.06.94zm10 10l.94 2.06.94-2.06 2.06-.94-2.06-.94-.94-2.06-.94 2.06-2.06.94z\"/><path d=\"M17.41 7.96l-1.37-1.37c-.4-.4-.92-.59-1.43-.59-.52 0-1.04.2-1.43.59L10.3 9.45l-7.72 7.72c-.78.78-.78 2.05 0 2.83L4 21.41c.39.39.9.59 1.41.59.51 0 1.02-.2 1.41-.59l7.78-7.78 2.81-2.81c.8-.78.8-2.07 0-2.86zM5.41 20L4 18.59l7.72-7.72 1.47 1.35L5.41 20z\"/>\n",
              "  </svg>\n",
              "      </button>\n",
              "\n",
              "\n",
              "\n",
              "    <div id=\"df-fab68b7c-3bb5-4fef-a1fb-32d05285d0f4\">\n",
              "      <button class=\"colab-df-quickchart\" onclick=\"quickchart('df-fab68b7c-3bb5-4fef-a1fb-32d05285d0f4')\"\n",
              "              title=\"Suggest charts.\"\n",
              "              style=\"display:none;\">\n",
              "\n",
              "<svg xmlns=\"http://www.w3.org/2000/svg\" height=\"24px\"viewBox=\"0 0 24 24\"\n",
              "     width=\"24px\">\n",
              "    <g>\n",
              "        <path d=\"M19 3H5c-1.1 0-2 .9-2 2v14c0 1.1.9 2 2 2h14c1.1 0 2-.9 2-2V5c0-1.1-.9-2-2-2zM9 17H7v-7h2v7zm4 0h-2V7h2v10zm4 0h-2v-4h2v4z\"/>\n",
              "    </g>\n",
              "</svg>\n",
              "      </button>\n",
              "    </div>\n",
              "\n",
              "<style>\n",
              "  .colab-df-quickchart {\n",
              "    background-color: #E8F0FE;\n",
              "    border: none;\n",
              "    border-radius: 50%;\n",
              "    cursor: pointer;\n",
              "    display: none;\n",
              "    fill: #1967D2;\n",
              "    height: 32px;\n",
              "    padding: 0 0 0 0;\n",
              "    width: 32px;\n",
              "  }\n",
              "\n",
              "  .colab-df-quickchart:hover {\n",
              "    background-color: #E2EBFA;\n",
              "    box-shadow: 0px 1px 2px rgba(60, 64, 67, 0.3), 0px 1px 3px 1px rgba(60, 64, 67, 0.15);\n",
              "    fill: #174EA6;\n",
              "  }\n",
              "\n",
              "  [theme=dark] .colab-df-quickchart {\n",
              "    background-color: #3B4455;\n",
              "    fill: #D2E3FC;\n",
              "  }\n",
              "\n",
              "  [theme=dark] .colab-df-quickchart:hover {\n",
              "    background-color: #434B5C;\n",
              "    box-shadow: 0px 1px 3px 1px rgba(0, 0, 0, 0.15);\n",
              "    filter: drop-shadow(0px 1px 2px rgba(0, 0, 0, 0.3));\n",
              "    fill: #FFFFFF;\n",
              "  }\n",
              "</style>\n",
              "\n",
              "    <script>\n",
              "      async function quickchart(key) {\n",
              "        const containerElement = document.querySelector('#' + key);\n",
              "        const charts = await google.colab.kernel.invokeFunction(\n",
              "            'suggestCharts', [key], {});\n",
              "      }\n",
              "    </script>\n",
              "\n",
              "      <script>\n",
              "\n",
              "function displayQuickchartButton(domScope) {\n",
              "  let quickchartButtonEl =\n",
              "    domScope.querySelector('#df-fab68b7c-3bb5-4fef-a1fb-32d05285d0f4 button.colab-df-quickchart');\n",
              "  quickchartButtonEl.style.display =\n",
              "    google.colab.kernel.accessAllowed ? 'block' : 'none';\n",
              "}\n",
              "\n",
              "        displayQuickchartButton(document);\n",
              "      </script>\n",
              "      <style>\n",
              "    .colab-df-container {\n",
              "      display:flex;\n",
              "      flex-wrap:wrap;\n",
              "      gap: 12px;\n",
              "    }\n",
              "\n",
              "    .colab-df-convert {\n",
              "      background-color: #E8F0FE;\n",
              "      border: none;\n",
              "      border-radius: 50%;\n",
              "      cursor: pointer;\n",
              "      display: none;\n",
              "      fill: #1967D2;\n",
              "      height: 32px;\n",
              "      padding: 0 0 0 0;\n",
              "      width: 32px;\n",
              "    }\n",
              "\n",
              "    .colab-df-convert:hover {\n",
              "      background-color: #E2EBFA;\n",
              "      box-shadow: 0px 1px 2px rgba(60, 64, 67, 0.3), 0px 1px 3px 1px rgba(60, 64, 67, 0.15);\n",
              "      fill: #174EA6;\n",
              "    }\n",
              "\n",
              "    [theme=dark] .colab-df-convert {\n",
              "      background-color: #3B4455;\n",
              "      fill: #D2E3FC;\n",
              "    }\n",
              "\n",
              "    [theme=dark] .colab-df-convert:hover {\n",
              "      background-color: #434B5C;\n",
              "      box-shadow: 0px 1px 3px 1px rgba(0, 0, 0, 0.15);\n",
              "      filter: drop-shadow(0px 1px 2px rgba(0, 0, 0, 0.3));\n",
              "      fill: #FFFFFF;\n",
              "    }\n",
              "  </style>\n",
              "\n",
              "      <script>\n",
              "        const buttonEl =\n",
              "          document.querySelector('#df-b4f07f85-3260-45c2-a6b4-b729dff44717 button.colab-df-convert');\n",
              "        buttonEl.style.display =\n",
              "          google.colab.kernel.accessAllowed ? 'block' : 'none';\n",
              "\n",
              "        async function convertToInteractive(key) {\n",
              "          const element = document.querySelector('#df-b4f07f85-3260-45c2-a6b4-b729dff44717');\n",
              "          const dataTable =\n",
              "            await google.colab.kernel.invokeFunction('convertToInteractive',\n",
              "                                                     [key], {});\n",
              "          if (!dataTable) return;\n",
              "\n",
              "          const docLinkHtml = 'Like what you see? Visit the ' +\n",
              "            '<a target=\"_blank\" href=https://colab.research.google.com/notebooks/data_table.ipynb>data table notebook</a>'\n",
              "            + ' to learn more about interactive tables.';\n",
              "          element.innerHTML = '';\n",
              "          dataTable['output_type'] = 'display_data';\n",
              "          await google.colab.output.renderOutput(dataTable, element);\n",
              "          const docLink = document.createElement('div');\n",
              "          docLink.innerHTML = docLinkHtml;\n",
              "          element.appendChild(docLink);\n",
              "        }\n",
              "      </script>\n",
              "    </div>\n",
              "  </div>\n"
            ]
          },
          "metadata": {},
          "execution_count": 12
        }
      ]
    },
    {
      "cell_type": "code",
      "source": [
        "list_b = ['pizza', list_a, 9]"
      ],
      "metadata": {
        "id": "ml8EiH-g-6CH"
      },
      "execution_count": null,
      "outputs": []
    },
    {
      "cell_type": "code",
      "source": [
        "list_b"
      ],
      "metadata": {
        "colab": {
          "base_uri": "https://localhost:8080/"
        },
        "id": "0PUwdwFx-_Se",
        "outputId": "fe4f62cc-94af-48d6-901c-3a5f2e030fbc"
      },
      "execution_count": null,
      "outputs": [
        {
          "output_type": "execute_result",
          "data": {
            "text/plain": [
              "['pizza',\n",
              " [1,\n",
              "  2,\n",
              "  3,\n",
              "  0,\n",
              "  9,\n",
              "  'aaz',\n",
              "                                    CSV => comma separated values\n",
              "  Car_ID  Model        Year  Value                        Pers_ID\n",
              "  101     Bentley      1973  100000                             0\n",
              "  102     Rolls Royce  1965  330000                             0\n",
              "  103     Peugeot      1993  500                                3],\n",
              " 9]"
            ]
          },
          "metadata": {},
          "execution_count": 16
        }
      ]
    },
    {
      "cell_type": "code",
      "source": [
        "list_b [1] [0]"
      ],
      "metadata": {
        "colab": {
          "base_uri": "https://localhost:8080/"
        },
        "id": "L2OGIN_G_BEo",
        "outputId": "55a8a576-23ec-4954-fcd7-861e94826c75"
      },
      "execution_count": null,
      "outputs": [
        {
          "output_type": "execute_result",
          "data": {
            "text/plain": [
              "1"
            ]
          },
          "metadata": {},
          "execution_count": 19
        }
      ]
    },
    {
      "cell_type": "code",
      "source": [
        "list_b [1]"
      ],
      "metadata": {
        "colab": {
          "base_uri": "https://localhost:8080/"
        },
        "id": "keS9lfzz_wHq",
        "outputId": "995c0f15-b073-4745-8a22-bff8228d47c6"
      },
      "execution_count": null,
      "outputs": [
        {
          "output_type": "execute_result",
          "data": {
            "text/plain": [
              "[1,\n",
              " 2,\n",
              " 3,\n",
              " 0,\n",
              " 9,\n",
              " 'aaz',\n",
              "                                   CSV => comma separated values\n",
              " Car_ID  Model        Year  Value                        Pers_ID\n",
              " 101     Bentley      1973  100000                             0\n",
              " 102     Rolls Royce  1965  330000                             0\n",
              " 103     Peugeot      1993  500                                3]"
            ]
          },
          "metadata": {},
          "execution_count": 20
        }
      ]
    },
    {
      "cell_type": "markdown",
      "source": [
        "### String is a list of characters"
      ],
      "metadata": {
        "id": "LLKsiB6FABGH"
      }
    },
    {
      "cell_type": "code",
      "source": [
        "x = 'shabu'\n",
        "x[-2]  ##ชี้ไปที่ตัวb"
      ],
      "metadata": {
        "colab": {
          "base_uri": "https://localhost:8080/",
          "height": 35
        },
        "id": "EK9oGSqH_fj6",
        "outputId": "06cf2df6-2b45-44c8-dd44-e937330df1da"
      },
      "execution_count": null,
      "outputs": [
        {
          "output_type": "execute_result",
          "data": {
            "text/plain": [
              "'b'"
            ],
            "application/vnd.google.colaboratory.intrinsic+json": {
              "type": "string"
            }
          },
          "metadata": {},
          "execution_count": 21
        }
      ]
    },
    {
      "cell_type": "code",
      "source": [
        "print(list_a)\n",
        "print(list_b)"
      ],
      "metadata": {
        "colab": {
          "base_uri": "https://localhost:8080/"
        },
        "id": "tNZKqCOvAN3n",
        "outputId": "5b927155-a1de-4687-e497-0f1c794302d5"
      },
      "execution_count": null,
      "outputs": [
        {
          "output_type": "stream",
          "name": "stdout",
          "text": [
            "[1, 2, 3, 0, 9, 'aaz',                                   CSV => comma separated values\n",
            "Car_ID  Model        Year  Value                        Pers_ID\n",
            "101     Bentley      1973  100000                             0\n",
            "102     Rolls Royce  1965  330000                             0\n",
            "103     Peugeot      1993  500                                3]\n",
            "['pizza', [1, 2, 3, 0, 9, 'aaz',                                   CSV => comma separated values\n",
            "Car_ID  Model        Year  Value                        Pers_ID\n",
            "101     Bentley      1973  100000                             0\n",
            "102     Rolls Royce  1965  330000                             0\n",
            "103     Peugeot      1993  500                                3], 9]\n"
          ]
        }
      ]
    },
    {
      "cell_type": "code",
      "source": [
        "list_a + list_b"
      ],
      "metadata": {
        "colab": {
          "base_uri": "https://localhost:8080/"
        },
        "id": "d1DVq53qAaBv",
        "outputId": "ed9c4f55-fb99-487b-b4aa-b8e9fbba3365"
      },
      "execution_count": null,
      "outputs": [
        {
          "output_type": "execute_result",
          "data": {
            "text/plain": [
              "[1,\n",
              " 2,\n",
              " 3,\n",
              " 0,\n",
              " 9,\n",
              " 'aaz',\n",
              "                                   CSV => comma separated values\n",
              " Car_ID  Model        Year  Value                        Pers_ID\n",
              " 101     Bentley      1973  100000                             0\n",
              " 102     Rolls Royce  1965  330000                             0\n",
              " 103     Peugeot      1993  500                                3,\n",
              " 'pizza',\n",
              " [1,\n",
              "  2,\n",
              "  3,\n",
              "  0,\n",
              "  9,\n",
              "  'aaz',\n",
              "                                    CSV => comma separated values\n",
              "  Car_ID  Model        Year  Value                        Pers_ID\n",
              "  101     Bentley      1973  100000                             0\n",
              "  102     Rolls Royce  1965  330000                             0\n",
              "  103     Peugeot      1993  500                                3],\n",
              " 9]"
            ]
          },
          "metadata": {},
          "execution_count": 23
        }
      ]
    },
    {
      "cell_type": "markdown",
      "source": [
        "### การสร้าง list - Creating a list\n",
        "1. create an empty list\n",
        "2. add member to the list\n",
        "3. then you can indexing"
      ],
      "metadata": {
        "id": "w-Ai_Kx1Aqr9"
      }
    },
    {
      "cell_type": "code",
      "source": [
        "list_aa = []\n",
        "list_aa"
      ],
      "metadata": {
        "colab": {
          "base_uri": "https://localhost:8080/"
        },
        "id": "ZlxRutfJAkJp",
        "outputId": "5149fae2-5bf9-42e3-b4a9-6995f2fd921c"
      },
      "execution_count": null,
      "outputs": [
        {
          "output_type": "execute_result",
          "data": {
            "text/plain": [
              "[]"
            ]
          },
          "metadata": {},
          "execution_count": 9
        }
      ]
    },
    {
      "cell_type": "code",
      "source": [
        "list_bb = list()\n",
        "print(list_bb)"
      ],
      "metadata": {
        "colab": {
          "base_uri": "https://localhost:8080/"
        },
        "id": "7GV8Z8MJBFxa",
        "outputId": "375b2294-d3af-4b1b-d2e7-367fb668d568"
      },
      "execution_count": null,
      "outputs": [
        {
          "output_type": "stream",
          "name": "stdout",
          "text": [
            "[]\n"
          ]
        }
      ]
    },
    {
      "cell_type": "markdown",
      "source": [
        "2. adding a member to the list (.append())"
      ],
      "metadata": {
        "id": "cGYjzVqmBRuD"
      }
    },
    {
      "cell_type": "code",
      "source": [
        "list_aa.append('chiken')\n",
        "list_aa.append('water')\n",
        "list_aa.append('vegetable')"
      ],
      "metadata": {
        "id": "Ao4CbDdiBNJ3"
      },
      "execution_count": null,
      "outputs": []
    },
    {
      "cell_type": "code",
      "source": [
        "list_aa.append('rice')"
      ],
      "metadata": {
        "id": "FTVfV9NyBkjU"
      },
      "execution_count": null,
      "outputs": []
    },
    {
      "cell_type": "code",
      "source": [
        "list_aa"
      ],
      "metadata": {
        "colab": {
          "base_uri": "https://localhost:8080/"
        },
        "id": "BNYOXMyxBq6P",
        "outputId": "b6e98b2d-0b2a-425d-cb6e-645cebb44042"
      },
      "execution_count": null,
      "outputs": [
        {
          "output_type": "execute_result",
          "data": {
            "text/plain": [
              "['chiken', 'water', 'vegetable', 'rice']"
            ]
          },
          "metadata": {},
          "execution_count": 13
        }
      ]
    },
    {
      "cell_type": "code",
      "source": [
        "list_aa[-1]  ##ชี้จากข้างหลัง"
      ],
      "metadata": {
        "colab": {
          "base_uri": "https://localhost:8080/",
          "height": 35
        },
        "id": "OgJdjLkpBrym",
        "outputId": "95fdddb0-c941-4da3-df10-0c82132043b8"
      },
      "execution_count": null,
      "outputs": [
        {
          "output_type": "execute_result",
          "data": {
            "text/plain": [
              "'rice'"
            ],
            "application/vnd.google.colaboratory.intrinsic+json": {
              "type": "string"
            }
          },
          "metadata": {},
          "execution_count": 14
        }
      ]
    },
    {
      "cell_type": "code",
      "source": [
        "list_aa[2]  ##ชี้ทางปกติ จากข้างหน้า"
      ],
      "metadata": {
        "colab": {
          "base_uri": "https://localhost:8080/",
          "height": 35
        },
        "id": "GIh3v41mB0II",
        "outputId": "0ee03d98-0ef7-4a19-e56a-a8fdc50b3b29"
      },
      "execution_count": null,
      "outputs": [
        {
          "output_type": "execute_result",
          "data": {
            "text/plain": [
              "'vegetable'"
            ],
            "application/vnd.google.colaboratory.intrinsic+json": {
              "type": "string"
            }
          },
          "metadata": {},
          "execution_count": 15
        }
      ]
    },
    {
      "cell_type": "code",
      "source": [],
      "metadata": {
        "id": "0M4bnTJ8B-oE"
      },
      "execution_count": null,
      "outputs": []
    },
    {
      "cell_type": "markdown",
      "source": [
        "### List slicing"
      ],
      "metadata": {
        "id": "aXdSfVRwE3n7"
      }
    },
    {
      "cell_type": "markdown",
      "source": [
        "we cut part of the list using : (colon)\n",
        "list_name[start:end:step]\n",
        "![361702680_1476964659547092_8356954687775177835_n.jpg](data:image/jpeg;base64,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)"
      ],
      "metadata": {
        "id": "h_phWmJUE79D"
      }
    },
    {
      "cell_type": "code",
      "source": [
        "list_aa.append('spoon')\n",
        "list_aa.append('fork')\n",
        "list_aa.append('knife')\n",
        "list_aa.append('apple')"
      ],
      "metadata": {
        "id": "Wb3xK_gKHE7s"
      },
      "execution_count": null,
      "outputs": []
    },
    {
      "cell_type": "code",
      "source": [
        "list_aa"
      ],
      "metadata": {
        "id": "7ieqefxLHYzB",
        "outputId": "e27d461a-784c-4b7f-e5d8-b584373c3390",
        "colab": {
          "base_uri": "https://localhost:8080/"
        }
      },
      "execution_count": null,
      "outputs": [
        {
          "output_type": "execute_result",
          "data": {
            "text/plain": [
              "['chiken', 'water', 'vegetable', 'rice', 'spoon', 'fork', 'knife', 'apple']"
            ]
          },
          "metadata": {},
          "execution_count": 17
        }
      ]
    },
    {
      "cell_type": "markdown",
      "source": [
        "#### *Quiz 1*\n",
        "\n",
        "ตัด ส่วนของ list เหล่านี้มาจาก list_aa\n",
        "\n",
        "1. 'iken'\n",
        "2. 'get'\n",
        "3. 'tab'"
      ],
      "metadata": {
        "id": "MKJCXRyXI6kc"
      }
    },
    {
      "cell_type": "code",
      "source": [],
      "metadata": {
        "id": "gHxAntA3JQ-b"
      },
      "execution_count": null,
      "outputs": []
    },
    {
      "cell_type": "markdown",
      "source": [
        "## Loop\n",
        "การให้ com ทำงานที่ซ้ำๆกัน หรือทำงานที่คล้ายๆกันหลายๆรอบ\n",
        "\n",
        "[indent]\n",
        "\n",
        "``` python\n",
        "for each_member_of_the_list in the_list_we_want_to_loop :\n",
        "    do something\n",
        "    do another thing\n",
        "\n",
        "this is outside the loop\n",
        "\n",
        "```"
      ],
      "metadata": {
        "id": "XpvLuibmJevN"
      }
    },
    {
      "cell_type": "code",
      "source": [
        "list_aa"
      ],
      "metadata": {
        "id": "uL4Z4xJwJwXQ",
        "outputId": "1eabf175-540f-4105-aede-6d43af44d618",
        "colab": {
          "base_uri": "https://localhost:8080/"
        }
      },
      "execution_count": null,
      "outputs": [
        {
          "output_type": "execute_result",
          "data": {
            "text/plain": [
              "['chiken', 'water', 'vegetable', 'rice', 'spoon', 'fork', 'knife', 'apple']"
            ]
          },
          "metadata": {},
          "execution_count": 18
        }
      ]
    },
    {
      "cell_type": "code",
      "source": [
        "for i in [1,2,3] :\n",
        "    print(i,end='')   #i แทน 123 และจบด้วย ''\n",
        "    print('xx')          # แทนค่า '' ด้วย xx"
      ],
      "metadata": {
        "id": "6PwF30K2Krtq",
        "outputId": "d1cdcd0d-c888-420f-a7d5-dec238bc2d88",
        "colab": {
          "base_uri": "https://localhost:8080/"
        }
      },
      "execution_count": null,
      "outputs": [
        {
          "output_type": "stream",
          "name": "stdout",
          "text": [
            "1xx\n",
            "2xx\n",
            "3xx\n"
          ]
        }
      ]
    },
    {
      "cell_type": "code",
      "source": [
        "for i in list_aa:\n",
        "    print(f'now i is {i}')\n",
        "    print(f'I like to eat {i} \\n//////////')"
      ],
      "metadata": {
        "id": "_ZhAK7O5K5WV",
        "outputId": "025d69ec-92d9-45cb-d63f-40c5cbb12923",
        "colab": {
          "base_uri": "https://localhost:8080/"
        }
      },
      "execution_count": null,
      "outputs": [
        {
          "output_type": "stream",
          "name": "stdout",
          "text": [
            "now i is chiken\n",
            "I like to eat chiken \n",
            "//////////\n",
            "now i is water\n",
            "I like to eat water \n",
            "//////////\n",
            "now i is vegetable\n",
            "I like to eat vegetable \n",
            "//////////\n",
            "now i is rice\n",
            "I like to eat rice \n",
            "//////////\n",
            "now i is spoon\n",
            "I like to eat spoon \n",
            "//////////\n",
            "now i is fork\n",
            "I like to eat fork \n",
            "//////////\n",
            "now i is knife\n",
            "I like to eat knife \n",
            "//////////\n",
            "now i is apple\n",
            "I like to eat apple \n",
            "//////////\n"
          ]
        }
      ]
    },
    {
      "cell_type": "code",
      "source": [
        "list(range(10))"
      ],
      "metadata": {
        "id": "D3tgdNQiLqOC",
        "outputId": "1cf6b3cb-edf5-40e6-e79e-f836dc772ebf",
        "colab": {
          "base_uri": "https://localhost:8080/"
        }
      },
      "execution_count": null,
      "outputs": [
        {
          "output_type": "execute_result",
          "data": {
            "text/plain": [
              "[0, 1, 2, 3, 4, 5, 6, 7, 8, 9]"
            ]
          },
          "metadata": {},
          "execution_count": 22
        }
      ]
    },
    {
      "cell_type": "code",
      "source": [
        "list(range(10,20,2))"
      ],
      "metadata": {
        "id": "VsXSCNcWM1J3",
        "outputId": "0a366776-2c76-4d92-d38e-7e5bc33d4450",
        "colab": {
          "base_uri": "https://localhost:8080/"
        }
      },
      "execution_count": null,
      "outputs": [
        {
          "output_type": "execute_result",
          "data": {
            "text/plain": [
              "[10, 12, 14, 16, 18]"
            ]
          },
          "metadata": {},
          "execution_count": 23
        }
      ]
    },
    {
      "cell_type": "code",
      "source": [
        "for i in range(100):\n",
        "    print(f'Ha{i}',end='')"
      ],
      "metadata": {
        "id": "hAuk05QQMN_z",
        "outputId": "0aed9014-d556-4485-9d07-7f88ad23fc7a",
        "colab": {
          "base_uri": "https://localhost:8080/"
        }
      },
      "execution_count": null,
      "outputs": [
        {
          "output_type": "stream",
          "name": "stdout",
          "text": [
            "Ha0Ha1Ha2Ha3Ha4Ha5Ha6Ha7Ha8Ha9Ha10Ha11Ha12Ha13Ha14Ha15Ha16Ha17Ha18Ha19Ha20Ha21Ha22Ha23Ha24Ha25Ha26Ha27Ha28Ha29Ha30Ha31Ha32Ha33Ha34Ha35Ha36Ha37Ha38Ha39Ha40Ha41Ha42Ha43Ha44Ha45Ha46Ha47Ha48Ha49Ha50Ha51Ha52Ha53Ha54Ha55Ha56Ha57Ha58Ha59Ha60Ha61Ha62Ha63Ha64Ha65Ha66Ha67Ha68Ha69Ha70Ha71Ha72Ha73Ha74Ha75Ha76Ha77Ha78Ha79Ha80Ha81Ha82Ha83Ha84Ha85Ha86Ha87Ha88Ha89Ha90Ha91Ha92Ha93Ha94Ha95Ha96Ha97Ha98Ha99"
          ]
        }
      ]
    },
    {
      "cell_type": "markdown",
      "source": [
        "### Finish 18 July 2023"
      ],
      "metadata": {
        "id": "0W0Wz-IRNcEt"
      }
    },
    {
      "cell_type": "markdown",
      "source": [
        "#### Nested loop\n",
        "       Loop ซ้อน loop"
      ],
      "metadata": {
        "id": "2eefmKBZrpG5"
      }
    },
    {
      "cell_type": "code",
      "source": [
        "for i in range(3):\n",
        "    print(f'i = {i} (out loop)')\n",
        "    for j in range(2):\n",
        "        print(f'i = {i}, j = {j}, i+j = {i+j} (inner loop)')"
      ],
      "metadata": {
        "id": "VtSuqILfNhY0",
        "outputId": "92f05c43-d860-4114-943d-3b8dac6eb4d2",
        "colab": {
          "base_uri": "https://localhost:8080/"
        }
      },
      "execution_count": 1,
      "outputs": [
        {
          "output_type": "stream",
          "name": "stdout",
          "text": [
            "i = 0 (out loop)\n",
            "i = 0, j = 0, i+j = 0 (inner loop)\n",
            "i = 0, j = 1, i+j = 1 (inner loop)\n",
            "i = 1 (out loop)\n",
            "i = 1, j = 0, i+j = 1 (inner loop)\n",
            "i = 1, j = 1, i+j = 2 (inner loop)\n",
            "i = 2 (out loop)\n",
            "i = 2, j = 0, i+j = 2 (inner loop)\n",
            "i = 2, j = 1, i+j = 3 (inner loop)\n"
          ]
        }
      ]
    },
    {
      "cell_type": "markdown",
      "source": [
        "##### Example of looping 1\n",
        "create a list[[1],[1,1],[1,1,1],...,[1,1,1,1,1,1,1,1,1,1] with for loop"
      ],
      "metadata": {
        "id": "VdWfFyMJtR0K"
      }
    },
    {
      "cell_type": "code",
      "source": [
        "list_A = []    ##คำตอบของเรา\n",
        "for i in range(10):    ##alter loop 0-9\n",
        "  AA = []    ##สร้างเมมเบอร์ให้ list_A\n",
        "  for j in range(i+1): ##inner loop หมายถึง 0-9 + 1\n",
        "      A=1\n",
        "      AA.append(A)\n",
        "  list_A.append(AA)"
      ],
      "metadata": {
        "id": "OPmo2XkitKc1"
      },
      "execution_count": 3,
      "outputs": []
    },
    {
      "cell_type": "code",
      "source": [
        "list_A"
      ],
      "metadata": {
        "id": "wArl_UjIulEg",
        "outputId": "88352ba8-cc63-466f-92c1-f47385bb6d57",
        "colab": {
          "base_uri": "https://localhost:8080/"
        }
      },
      "execution_count": 4,
      "outputs": [
        {
          "output_type": "execute_result",
          "data": {
            "text/plain": [
              "[[1],\n",
              " [1, 1],\n",
              " [1, 1, 1],\n",
              " [1, 1, 1, 1],\n",
              " [1, 1, 1, 1, 1],\n",
              " [1, 1, 1, 1, 1, 1],\n",
              " [1, 1, 1, 1, 1, 1, 1],\n",
              " [1, 1, 1, 1, 1, 1, 1, 1],\n",
              " [1, 1, 1, 1, 1, 1, 1, 1, 1],\n",
              " [1, 1, 1, 1, 1, 1, 1, 1, 1, 1]]"
            ]
          },
          "metadata": {},
          "execution_count": 4
        }
      ]
    },
    {
      "cell_type": "code",
      "source": [
        "list_ans = []\n",
        "print(f'list_ans = {list_ans} \\n ------------')\n",
        "for i in range(1, 11):  ##ต้องการ 1-10\n",
        "    temp = []   ##สร้างคำตอบ\n",
        "    #print(f'temp = {temp}')\n",
        "    for j in range(i):\n",
        "        temp.append(1)\n",
        "    print(f'i = {i}, j = {j}, temp = {temp}')\n",
        "    list_ans.append(temp)\n",
        "    print(f'list_ans = {list_ans} \\n -------- ')\n",
        "\n",
        "print(list_ans)"
      ],
      "metadata": {
        "id": "O_rtMEHLutLj",
        "outputId": "5c02b499-d794-4472-8746-36f35fb3927d",
        "colab": {
          "base_uri": "https://localhost:8080/"
        }
      },
      "execution_count": 5,
      "outputs": [
        {
          "output_type": "stream",
          "name": "stdout",
          "text": [
            "list_ans = [] \n",
            " ------------\n",
            "i = 1, j = 0, temp = [1]\n",
            "list_ans = [[1]] \n",
            " -------- \n",
            "i = 2, j = 1, temp = [1, 1]\n",
            "list_ans = [[1], [1, 1]] \n",
            " -------- \n",
            "i = 3, j = 2, temp = [1, 1, 1]\n",
            "list_ans = [[1], [1, 1], [1, 1, 1]] \n",
            " -------- \n",
            "i = 4, j = 3, temp = [1, 1, 1, 1]\n",
            "list_ans = [[1], [1, 1], [1, 1, 1], [1, 1, 1, 1]] \n",
            " -------- \n",
            "i = 5, j = 4, temp = [1, 1, 1, 1, 1]\n",
            "list_ans = [[1], [1, 1], [1, 1, 1], [1, 1, 1, 1], [1, 1, 1, 1, 1]] \n",
            " -------- \n",
            "i = 6, j = 5, temp = [1, 1, 1, 1, 1, 1]\n",
            "list_ans = [[1], [1, 1], [1, 1, 1], [1, 1, 1, 1], [1, 1, 1, 1, 1], [1, 1, 1, 1, 1, 1]] \n",
            " -------- \n",
            "i = 7, j = 6, temp = [1, 1, 1, 1, 1, 1, 1]\n",
            "list_ans = [[1], [1, 1], [1, 1, 1], [1, 1, 1, 1], [1, 1, 1, 1, 1], [1, 1, 1, 1, 1, 1], [1, 1, 1, 1, 1, 1, 1]] \n",
            " -------- \n",
            "i = 8, j = 7, temp = [1, 1, 1, 1, 1, 1, 1, 1]\n",
            "list_ans = [[1], [1, 1], [1, 1, 1], [1, 1, 1, 1], [1, 1, 1, 1, 1], [1, 1, 1, 1, 1, 1], [1, 1, 1, 1, 1, 1, 1], [1, 1, 1, 1, 1, 1, 1, 1]] \n",
            " -------- \n",
            "i = 9, j = 8, temp = [1, 1, 1, 1, 1, 1, 1, 1, 1]\n",
            "list_ans = [[1], [1, 1], [1, 1, 1], [1, 1, 1, 1], [1, 1, 1, 1, 1], [1, 1, 1, 1, 1, 1], [1, 1, 1, 1, 1, 1, 1], [1, 1, 1, 1, 1, 1, 1, 1], [1, 1, 1, 1, 1, 1, 1, 1, 1]] \n",
            " -------- \n",
            "i = 10, j = 9, temp = [1, 1, 1, 1, 1, 1, 1, 1, 1, 1]\n",
            "list_ans = [[1], [1, 1], [1, 1, 1], [1, 1, 1, 1], [1, 1, 1, 1, 1], [1, 1, 1, 1, 1, 1], [1, 1, 1, 1, 1, 1, 1], [1, 1, 1, 1, 1, 1, 1, 1], [1, 1, 1, 1, 1, 1, 1, 1, 1], [1, 1, 1, 1, 1, 1, 1, 1, 1, 1]] \n",
            " -------- \n",
            "[[1], [1, 1], [1, 1, 1], [1, 1, 1, 1], [1, 1, 1, 1, 1], [1, 1, 1, 1, 1, 1], [1, 1, 1, 1, 1, 1, 1], [1, 1, 1, 1, 1, 1, 1, 1], [1, 1, 1, 1, 1, 1, 1, 1, 1], [1, 1, 1, 1, 1, 1, 1, 1, 1, 1]]\n"
          ]
        }
      ]
    },
    {
      "cell_type": "markdown",
      "source": [
        "# Quiz2\n",
        "create a list\n",
        "create a list [[a],[a,b],[a,b,c],...,[a,b,c,d,e,f,i,j] with for loop"
      ],
      "metadata": {
        "id": "hKHbM_aPwLNB"
      }
    },
    {
      "cell_type": "code",
      "source": [
        "list_A = []\n",
        "for i in range(10):\n",
        "    AA = []\n",
        "    for j in range(i+1):\n",
        "        A='a'\n",
        "        AA.append(j+1)\n",
        "    list_A.append(AA)\n",
        "\n",
        "print(list_A)"
      ],
      "metadata": {
        "id": "FX-0-Aj1xvLN",
        "outputId": "4e9522aa-faf1-4305-bd66-38102e89cd34",
        "colab": {
          "base_uri": "https://localhost:8080/"
        }
      },
      "execution_count": 17,
      "outputs": [
        {
          "output_type": "stream",
          "name": "stdout",
          "text": [
            "[[1], [1, 2], [1, 2, 3], [1, 2, 3, 4], [1, 2, 3, 4, 5], [1, 2, 3, 4, 5, 6], [1, 2, 3, 4, 5, 6, 7], [1, 2, 3, 4, 5, 6, 7, 8], [1, 2, 3, 4, 5, 6, 7, 8, 9], [1, 2, 3, 4, 5, 6, 7, 8, 9, 10]]\n"
          ]
        }
      ]
    },
    {
      "cell_type": "code",
      "source": [
        "list_A = []\n",
        "for i in range(10):\n",
        "    AA = []\n",
        "    for j in range(i+1):\n",
        "        AA.append(j+1)\n",
        "    list_A.append(AA)\n",
        "\n",
        "print(list_A)"
      ],
      "metadata": {
        "id": "VgYt_4llyPg8",
        "outputId": "79762b64-a84a-4309-b603-63673f7264c3",
        "colab": {
          "base_uri": "https://localhost:8080/"
        }
      },
      "execution_count": 9,
      "outputs": [
        {
          "output_type": "stream",
          "name": "stdout",
          "text": [
            "[[1]]\n"
          ]
        }
      ]
    },
    {
      "cell_type": "code",
      "source": [
        "G = ['a','b','c','d','e','f','g','h','i']\n",
        "print(G)"
      ],
      "metadata": {
        "id": "ITNUv9Mkyxp3",
        "outputId": "0e0246ab-20b2-4c35-a7ff-e7e07569e8e9",
        "colab": {
          "base_uri": "https://localhost:8080/"
        }
      },
      "execution_count": 18,
      "outputs": [
        {
          "output_type": "stream",
          "name": "stdout",
          "text": [
            "['a', 'b', 'c', 'd', 'e', 'f', 'g', 'h', 'i']\n"
          ]
        }
      ]
    },
    {
      "cell_type": "code",
      "source": [
        "G[0]"
      ],
      "metadata": {
        "id": "kxZkPIHg0ulm",
        "outputId": "c244e017-1699-4592-d4af-08e6f935e0ca",
        "colab": {
          "base_uri": "https://localhost:8080/",
          "height": 35
        }
      },
      "execution_count": 19,
      "outputs": [
        {
          "output_type": "execute_result",
          "data": {
            "text/plain": [
              "'a'"
            ],
            "application/vnd.google.colaboratory.intrinsic+json": {
              "type": "string"
            }
          },
          "metadata": {},
          "execution_count": 19
        }
      ]
    },
    {
      "cell_type": "code",
      "source": [
        "list_A = []    ##คำตอบของเรา\n",
        "for i in range(10):    ##alter loop 0-9\n",
        "  AA = []    ##สร้างเมมเบอร์ให้ list_A\n",
        "  for j in range(i): ##inner loop หมายถึง 0-9 + 1\n",
        "      A=1\n",
        "      AA.append(G[0:j])\n",
        "  list_A.append(AA)"
      ],
      "metadata": {
        "id": "VxNQfBb_010Y",
        "outputId": "d418f4f1-acbc-41da-81d8-d7bc3fc474ed",
        "colab": {
          "base_uri": "https://localhost:8080/",
          "height": 134
        }
      },
      "execution_count": 23,
      "outputs": [
        {
          "output_type": "error",
          "ename": "SyntaxError",
          "evalue": "ignored",
          "traceback": [
            "\u001b[0;36m  File \u001b[0;32m\"<ipython-input-23-a456e6ee4a9d>\"\u001b[0;36m, line \u001b[0;32m6\u001b[0m\n\u001b[0;31m    AA.append(G[0:j] \\n---)\u001b[0m\n\u001b[0m                      ^\u001b[0m\n\u001b[0;31mSyntaxError\u001b[0m\u001b[0;31m:\u001b[0m unexpected character after line continuation character\n"
          ]
        }
      ]
    },
    {
      "cell_type": "code",
      "source": [
        "print(AA)"
      ],
      "metadata": {
        "id": "AN1gcAv81Qby",
        "outputId": "62bbbde8-fb55-4d21-8a22-8dfcbd0aff4a",
        "colab": {
          "base_uri": "https://localhost:8080/"
        }
      },
      "execution_count": 21,
      "outputs": [
        {
          "output_type": "stream",
          "name": "stdout",
          "text": [
            "[[], ['a'], ['a', 'b'], ['a', 'b', 'c'], ['a', 'b', 'c', 'd'], ['a', 'b', 'c', 'd', 'e'], ['a', 'b', 'c', 'd', 'e', 'f'], ['a', 'b', 'c', 'd', 'e', 'f', 'g'], ['a', 'b', 'c', 'd', 'e', 'f', 'g', 'h']]\n"
          ]
        }
      ]
    },
    {
      "cell_type": "code",
      "source": [],
      "metadata": {
        "id": "Cj8SWznL1S53"
      },
      "execution_count": null,
      "outputs": []
    }
  ]
}